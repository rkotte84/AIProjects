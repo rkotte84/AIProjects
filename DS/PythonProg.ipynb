{
 "cells": [
  {
   "cell_type": "code",
   "execution_count": null,
   "id": "c0b32cee",
   "metadata": {},
   "outputs": [],
   "source": [
    "a = 2\n",
    "n = input(\"Enter a number: \")\n",
    "n = int(n)\n",
    "while a <= n-1:\n",
    "    if n % a == 0:\n",
    "        print(n, \"is not a prime number\")\n",
    "        break\n",
    "    else:\n",
    "      a += 1\n",
    "else:\n",
    "     print(n, \"is a prime number\")"
   ]
  },
  {
   "cell_type": "code",
   "execution_count": null,
   "id": "aa260355",
   "metadata": {},
   "outputs": [],
   "source": [
    "import calendar\n",
    "\n",
    "year = int(input(\"Enter Year: \"))\n",
    "month = int(input(\"Enter Month: \"))\n",
    "\n",
    "cal = calendar.month(year,month)\n",
    "\n",
    "print(cal)\n"
   ]
  }
 ],
 "metadata": {
  "kernelspec": {
   "display_name": "Python 3",
   "language": "python",
   "name": "python3"
  },
  "language_info": {
   "codemirror_mode": {
    "name": "ipython",
    "version": 3
   },
   "file_extension": ".py",
   "mimetype": "text/x-python",
   "name": "python",
   "nbconvert_exporter": "python",
   "pygments_lexer": "ipython3",
   "version": "3.12.2"
  }
 },
 "nbformat": 4,
 "nbformat_minor": 5
}
