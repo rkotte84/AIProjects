{
 "cells": [
  {
   "cell_type": "code",
   "execution_count": null,
   "id": "6bc8f26b",
   "metadata": {},
   "outputs": [],
   "source": [
    "list = [1,2,3,4]\n",
    "print(list)"
   ]
  },
  {
   "cell_type": "code",
   "execution_count": null,
   "id": "089ed70c",
   "metadata": {},
   "outputs": [],
   "source": [
    "dictory = {'name': 'John', 'age': 30, 'city': 'New York'}\n",
    "print(dictory)\n",
    "print(dictory['name'])\n",
    "print(dictory['age'])"
   ]
  },
  {
   "cell_type": "code",
   "execution_count": null,
   "id": "3fbefe5b",
   "metadata": {},
   "outputs": [],
   "source": [
    "tuple = (1, 3, 4)\n",
    "tuple = tuple + (5, 6, 7)\n",
    "print(tuple)"
   ]
  },
  {
   "cell_type": "code",
   "execution_count": null,
   "id": "b11216f5",
   "metadata": {},
   "outputs": [],
   "source": [
    "array = [1, 2, 3, 4, 5]\n",
    "print(array[1:3])\n",
    "print(array[4])"
   ]
  },
  {
   "cell_type": "code",
   "execution_count": null,
   "id": "6821f2d8",
   "metadata": {},
   "outputs": [],
   "source": [
    "set = {1, 2, 3, 4}\n",
    "print(set)  # set is unordered and unindexed\n",
    "set.add(5)  # add an element to the set\n",
    "print(set)"
   ]
  },
  {
   "cell_type": "code",
   "execution_count": null,
   "id": "0c4428ba",
   "metadata": {},
   "outputs": [],
   "source": [
    "# leaner search\n",
    "inputarray  = [1, 2, 3, 4, 5]  \n",
    "x = 5\n",
    "for i in range(len(inputarray)):\n",
    "    if inputarray[i] == x:\n",
    "        print(\"Element found at index\", i)\n",
    "        break\n",
    "else:\n",
    "    print(\"Element not found in the list\")  \n",
    "\n"
   ]
  },
  {
   "cell_type": "code",
   "execution_count": null,
   "id": "39ab2e5d",
   "metadata": {},
   "outputs": [],
   "source": [
    "# Binary Search Algorithm in Python\n",
    "import logging\n",
    "logging.basicConfig(filename='debug.log',level=logging.DEBUG)\n",
    "\n",
    "def binary_search(arr, x, low, high):\n",
    "    if low > high:\n",
    "        return -1  # Element not found\n",
    "    mid = (low + high) // 2  # Use integer division\n",
    "    if arr[mid] == x:\n",
    "        return mid  # Element found at index mid\n",
    "    elif arr[mid] > x:\n",
    "        return binary_search(arr, x, low, mid - 1)\n",
    "    else:\n",
    "        return binary_search(arr, x, mid + 1, high)\n",
    "\n",
    "arr = [1, 4,4, 3, 4, 5]\n",
    "x = 6\n",
    "result = binary_search(arr, x, 0, len(arr) - 1)\n",
    "if result != -1:\n",
    "    logging.debug(f'Element found at index {result}')\n",
    "    print(f'Element found at index {result}')\n",
    "else:\n",
    "    print('Element not found')"
   ]
  },
  {
   "cell_type": "code",
   "execution_count": null,
   "id": "da70c5e8",
   "metadata": {},
   "outputs": [],
   "source": [
    "arr =   [1, 2, 3, 4, 5,7,8,9,9,10,11,12,13,14,15,16,17,18,19,20]\n",
    "otherarr = []\n",
    "\n",
    "# Reverse an array using a loop\n",
    "\n",
    "for i in range(0,int(len(arr)//2)):  # Big-O: O(n/2) = O(n)\n",
    "    other = len(arr)-i-1;print(other) \n",
    "    temp = arr[i]\n",
    "    arr[i] = arr[other]\n",
    "    arr[other] = temp\n",
    "\n",
    "\n",
    "print(arr)  # Output: [5, 4, 3, 2, 1]\n",
    "\n",
    "\n",
    "    "
   ]
  },
  {
   "cell_type": "code",
   "execution_count": null,
   "id": "adab8b2f",
   "metadata": {},
   "outputs": [
    {
     "name": "stdout",
     "output_type": "stream",
     "text": [
      "Sorted array is: [4, 1, 3, 2, 4, 5, 6]\n"
     ]
    }
   ],
   "source": [
    "arr =   [6,4, 1, 3,2,4, 5]\n",
    "\n",
    "def bubblesort(arr):\n",
    "    for n in range(0, len(arr)):\n",
    "        for i in range(0, len(arr) -1):\n",
    "           if arr[i] > arr[i+1]:\n",
    "                temp = arr[i]\n",
    "                arr[i] = arr[i+1]\n",
    "                arr[i+1] = temp\n",
    "\n",
    "print(\"Sorted array is:\", arr)\n",
    "# Bubble Sort Algorithm in Python\n",
    "\n",
    "     "
   ]
  }
 ],
 "metadata": {
  "kernelspec": {
   "display_name": "Python 3",
   "language": "python",
   "name": "python3"
  },
  "language_info": {
   "codemirror_mode": {
    "name": "ipython",
    "version": 3
   },
   "file_extension": ".py",
   "mimetype": "text/x-python",
   "name": "python",
   "nbconvert_exporter": "python",
   "pygments_lexer": "ipython3",
   "version": "3.12.2"
  }
 },
 "nbformat": 4,
 "nbformat_minor": 5
}
